{
 "cells": [
  {
   "cell_type": "markdown",
   "id": "bf93842e-cad3-4a9d-bb1d-784aa8431700",
   "metadata": {
    "editable": false,
    "slideshow": {
     "slide_type": ""
    },
    "tags": []
   },
   "source": [
    "# Predictive Analytics Workshop\n",
    "\n",
    "This lab aims to introduce you to a basic use case of a machine learning algorithm applied to real-world data, specifically the California house prices https://www.kaggle.com/code/ahmedmahmoud16/california-housing-prices/input"
   ]
  },
  {
   "cell_type": "markdown",
   "id": "5f34c93a-ea68-4b9b-8e39-6907beb8fae7",
   "metadata": {
    "editable": false,
    "slideshow": {
     "slide_type": ""
    },
    "tags": []
   },
   "source": [
    "## Boston Housing Price Prediction - \n",
    "\n",
    "> The data pertains to the houses found in a given California district and some summary stats about them based on the 1990 census data. Be warned the data aren't cleaned so there are some preprocessing steps required! The columns are as follows, their names are pretty self explanitory:\n",
    "\n",
    "- Target Variable:\n",
    "    - **medianHouseValue**: Median house value for households within a block (measured in US Dollars)\n",
    "- Predictor Variables:\n",
    "    - **longitude**: A measure of how far west a house is; a higher value is farther west\n",
    "    - **latitude**: A measure of how far north a house is; a higher value is farther north\n",
    "    - **housingMedianAge**: Median age of a house within a block; a lower number is a newer building\n",
    "    - **totalRooms**: Total number of rooms within a block\n",
    "    - **totalBedrooms**: Total number of bedrooms within a block\n",
    "    - **population**: Total number of people residing within a block\n",
    "    - **households**: Total number of households, a group of people residing within a home unit, for a block\n",
    "    - **medianIncome**: Median income for households within a block of houses (measured in tens of thousands of US Dollars)\n",
    "    - **oceanProximity**: Location of the house w.r.t ocean/sea"
   ]
  },
  {
   "cell_type": "markdown",
   "id": "0e06296c-9020-41e4-8a9a-9d7a29c5d98f",
   "metadata": {
    "editable": false,
    "slideshow": {
     "slide_type": ""
    },
    "tags": []
   },
   "source": [
    "### Predicting House Prices\n",
    "We'll now build a predictive analytics where you will:\n",
    "\n",
    "- Visualize relationships between features and house prices\n",
    "- Split the dataset into training/testing sets\n",
    "- Train a linear regression model\n",
    "- Evaluate model performance\n",
    "- Save and use the model for predictions"
   ]
  },
  {
   "cell_type": "markdown",
   "id": "88972587-2bd6-4eaf-a8e0-7b91660bd309",
   "metadata": {
    "editable": false,
    "slideshow": {
     "slide_type": ""
    },
    "tags": []
   },
   "source": [
    "### Importing essential libraries"
   ]
  },
  {
   "cell_type": "code",
   "execution_count": null,
   "id": "b5f275d3-8f3e-49b9-b6e6-fd332fb64576",
   "metadata": {},
   "outputs": [],
   "source": []
  },
  {
   "cell_type": "markdown",
   "id": "107442fa-6c1b-4794-a44e-d90af09b411c",
   "metadata": {
    "editable": false,
    "slideshow": {
     "slide_type": ""
    },
    "tags": []
   },
   "source": [
    "### Load the California Housing dataset"
   ]
  },
  {
   "cell_type": "code",
   "execution_count": null,
   "id": "b20f4f7f-c263-4b26-8fb4-6fd4a8e629d4",
   "metadata": {
    "editable": true,
    "slideshow": {
     "slide_type": ""
    },
    "tags": []
   },
   "outputs": [],
   "source": []
  },
  {
   "cell_type": "code",
   "execution_count": null,
   "id": "287b84ac-b428-4095-9492-2b01205aaaea",
   "metadata": {},
   "outputs": [],
   "source": []
  },
  {
   "cell_type": "code",
   "execution_count": null,
   "id": "43b74fa4-b8c4-4993-9399-9ae2ccf5fa1f",
   "metadata": {},
   "outputs": [],
   "source": []
  },
  {
   "cell_type": "markdown",
   "id": "6ba39795-88bb-4e28-bcaf-c30aff24dd5b",
   "metadata": {
    "editable": false,
    "slideshow": {
     "slide_type": ""
    },
    "tags": []
   },
   "source": [
    "## Step 0 Handling Missing Values\n",
    "#### Fill missing values in 'total_bedrooms' with the median value"
   ]
  },
  {
   "cell_type": "code",
   "execution_count": null,
   "id": "7e2bb102-510e-4f9d-8e4f-68af6446452b",
   "metadata": {},
   "outputs": [],
   "source": []
  },
  {
   "cell_type": "code",
   "execution_count": null,
   "id": "483eae7b-5918-4545-9105-8cc2d041d258",
   "metadata": {},
   "outputs": [],
   "source": []
  },
  {
   "cell_type": "markdown",
   "id": "53b597f5-6062-417d-a1f3-aabfa3d1531d",
   "metadata": {
    "editable": false,
    "slideshow": {
     "slide_type": ""
    },
    "tags": []
   },
   "source": [
    "## 1️⃣ Visualizing the Data\n",
    "### Scatter Plot: Relationship between Rooms & Price\n",
    "\n",
    "- This helps identify trends and correlations."
   ]
  },
  {
   "cell_type": "code",
   "execution_count": null,
   "id": "c06bb888-c3c6-4e67-b608-eb656bb0f8f4",
   "metadata": {},
   "outputs": [],
   "source": []
  },
  {
   "cell_type": "markdown",
   "id": "1934ba79-da71-40d0-8db2-5e3e822f8874",
   "metadata": {
    "editable": false,
    "slideshow": {
     "slide_type": ""
    },
    "tags": []
   },
   "source": [
    "### Pair Plot: Correlations Among Features"
   ]
  },
  {
   "cell_type": "code",
   "execution_count": null,
   "id": "5880cc7f-d8dd-4aac-939b-ba651d2904fa",
   "metadata": {},
   "outputs": [],
   "source": []
  },
  {
   "cell_type": "markdown",
   "id": "f04a508d-4bc7-4f83-a88e-4d9a4e392e2f",
   "metadata": {
    "editable": false,
    "slideshow": {
     "slide_type": ""
    },
    "tags": []
   },
   "source": [
    "## 2️⃣ Splitting Data into Training & Testing\n",
    "### Define features (X) and target (Y)\n",
    "\n",
    "- Splitting data prevents overfitting by evaluating the model on unseen data."
   ]
  },
  {
   "cell_type": "code",
   "execution_count": null,
   "id": "48619d57-217c-4e97-a16f-5eb82b10c30d",
   "metadata": {},
   "outputs": [],
   "source": []
  },
  {
   "cell_type": "code",
   "execution_count": null,
   "id": "181cfd14-18f3-4466-99e3-03e5d3feb467",
   "metadata": {},
   "outputs": [],
   "source": []
  },
  {
   "cell_type": "code",
   "execution_count": null,
   "id": "f7439869-1a57-4a7e-8179-7c97df4f8a50",
   "metadata": {},
   "outputs": [],
   "source": []
  },
  {
   "cell_type": "code",
   "execution_count": null,
   "id": "9218a47e-511c-4123-a8c2-85dcdf7c4c9c",
   "metadata": {},
   "outputs": [],
   "source": []
  },
  {
   "cell_type": "code",
   "execution_count": null,
   "id": "5a3420ac-fadb-4765-995a-338b00054b47",
   "metadata": {},
   "outputs": [],
   "source": []
  },
  {
   "cell_type": "markdown",
   "id": "4a6e3021-8dda-4a76-8351-e5a10c0385d8",
   "metadata": {
    "editable": false,
    "slideshow": {
     "slide_type": ""
    },
    "tags": []
   },
   "source": [
    "## 3️⃣ Training the Linear Regression Model\n",
    "### Train the model\n",
    "\n",
    "- The model learns how features (income, rooms, bedrooms, population) affect house price."
   ]
  },
  {
   "cell_type": "code",
   "execution_count": null,
   "id": "b95a5381-c618-49d3-aed8-eaf10b03caa4",
   "metadata": {},
   "outputs": [],
   "source": []
  },
  {
   "cell_type": "markdown",
   "id": "8e5a2215-e867-4137-b9c3-fc3ccc75f5fb",
   "metadata": {
    "editable": false,
    "slideshow": {
     "slide_type": ""
    },
    "tags": []
   },
   "source": [
    "## 4️⃣ Evaluating the Model\n",
    "### Predict house prices on the test set\n",
    "\n",
    "## **Regression Metrics & Interpretation**\n",
    "**For Regression Models (if applicable)**\n",
    "\n",
    "\n",
    "✅ **MAE** (Mean Absolute Error) → Measures absolute differences.\n",
    "\n",
    "✅ **MSE** (Mean Squared Error) → Penalizes larger errors.\n",
    "\n",
    "✅ **RMSE** (Root MSE) → Standardizes MSE to the same units.\n",
    "\n",
    "✅ **R² Score** → Measures how well the model explains variance (best = 1.0).\n",
    "\n",
    "✅ **Explained Variance Score** → Measures the proportion of the variance in the target variable that is captured by the model. It is similar to R², but while R² can be affected by bias in the predictions, the explained variance focuses purely on how well the model captures the spread of the data. A score closer to 1 indicates that most of the variance is explained by the model."
   ]
  },
  {
   "cell_type": "markdown",
   "id": "d9138730-a92c-4571-a2e5-19a03d7ad9cd",
   "metadata": {
    "editable": false,
    "slideshow": {
     "slide_type": ""
    },
    "tags": []
   },
   "source": [
    "### Now, we test the model on an unseen portion of the data."
   ]
  },
  {
   "cell_type": "code",
   "execution_count": null,
   "id": "82f4582d-94f6-4e51-9d1e-f409fc13823b",
   "metadata": {},
   "outputs": [],
   "source": []
  },
  {
   "cell_type": "markdown",
   "id": "90278575-9f86-4a01-9481-e76af3572df2",
   "metadata": {
    "editable": false,
    "slideshow": {
     "slide_type": ""
    },
    "tags": []
   },
   "source": [
    "### Calculate Mean Squared Error (MSE) and R² Score"
   ]
  },
  {
   "cell_type": "code",
   "execution_count": null,
   "id": "c8fe50c3-2f44-4d13-967a-5453f9b9356b",
   "metadata": {},
   "outputs": [],
   "source": []
  },
  {
   "cell_type": "markdown",
   "id": "cb0dbfda-09d0-42d7-8a9c-9850ab4006a9",
   "metadata": {
    "editable": false,
    "slideshow": {
     "slide_type": ""
    },
    "tags": []
   },
   "source": [
    "### Display evaluation metrics"
   ]
  },
  {
   "cell_type": "code",
   "execution_count": null,
   "id": "06d62dd1-3bfb-4c2d-b193-e286c50f0205",
   "metadata": {},
   "outputs": [],
   "source": []
  },
  {
   "cell_type": "markdown",
   "id": "8fe5337a-3e27-4895-b85e-d96fc26c013c",
   "metadata": {
    "editable": false,
    "slideshow": {
     "slide_type": ""
    },
    "tags": []
   },
   "source": [
    "## 5️⃣ Visualizing Predictions vs. Actual Prices\n",
    "\n",
    "- Closer points are to the red line, the better the model."
   ]
  },
  {
   "cell_type": "code",
   "execution_count": null,
   "id": "746a798d-c385-41f5-a7d8-f0aee3cc675e",
   "metadata": {},
   "outputs": [],
   "source": []
  },
  {
   "cell_type": "markdown",
   "id": "afbd7175-6d29-4f25-a4b9-d6b5752788fd",
   "metadata": {
    "editable": false,
    "slideshow": {
     "slide_type": ""
    },
    "tags": []
   },
   "source": [
    "## 6️⃣ Saving and Using the Model\n",
    "### Save trained model\n",
    "\n",
    "- The model is saved and can be reused for future house price predictions."
   ]
  },
  {
   "cell_type": "code",
   "execution_count": null,
   "id": "65e9fc47-9539-4604-81a2-a26c2e372045",
   "metadata": {},
   "outputs": [],
   "source": []
  },
  {
   "cell_type": "code",
   "execution_count": null,
   "id": "03cc7c85-cf0a-4dee-aadf-2e4144842fea",
   "metadata": {},
   "outputs": [],
   "source": []
  },
  {
   "cell_type": "code",
   "execution_count": null,
   "id": "bf16e460-6770-4477-aec0-e07cf826a7a4",
   "metadata": {},
   "outputs": [],
   "source": []
  },
  {
   "cell_type": "code",
   "execution_count": null,
   "id": "720f516b-b8f4-485a-a4c8-a8c9adc44eda",
   "metadata": {},
   "outputs": [],
   "source": []
  },
  {
   "cell_type": "code",
   "execution_count": null,
   "id": "630bfa1a-a17a-47ce-909c-eef0519206f8",
   "metadata": {},
   "outputs": [],
   "source": []
  }
 ],
 "metadata": {
  "kernelspec": {
   "display_name": "Python 3 (ipykernel)",
   "language": "python",
   "name": "python3"
  },
  "language_info": {
   "codemirror_mode": {
    "name": "ipython",
    "version": 3
   },
   "file_extension": ".py",
   "mimetype": "text/x-python",
   "name": "python",
   "nbconvert_exporter": "python",
   "pygments_lexer": "ipython3",
   "version": "3.12.2"
  }
 },
 "nbformat": 4,
 "nbformat_minor": 5
}
